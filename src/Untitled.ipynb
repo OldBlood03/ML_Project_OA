{
 "cells": [
  {
   "cell_type": "code",
   "execution_count": 85,
   "id": "71b851f3",
   "metadata": {},
   "outputs": [],
   "source": [
    "from os import listdir\n",
    "from os import getcwd\n",
    "from os.path import isfile, splitext\n",
    "import numpy as np\n",
    "import keras\n",
    "import cv2\n",
    "from matplotlib.pyplot import imread\n",
    "import os\n",
    "from sklearn.model_selection import train_test_split\n",
    "\n",
    "\n",
    "def read_data_from_files(\n",
    "    *fpaths,\n",
    "):  # read data from all files in the listed directories *fpaths and process the images into (np.array, str) tuples\n",
    "    cwd = getcwd() + '\\\\'\n",
    "    return (\n",
    "        (imread(cwd + \"{}\\\\{}\".format(dir, fil)), dir)\n",
    "        for dir in fpaths\n",
    "        for fil in listdir(cwd + dir)\n",
    "    )\n",
    "\n",
    "\n",
    "def preprocess_data(datagenerator, xscale, yscale, grey=True):\n",
    "    if grey:\n",
    "        return (\n",
    "            (inetrpolate(greyscale(feature), xscale, yscale), label)\n",
    "            for (feature, label) in datagenerator if feature.ndim == 3\n",
    "        )\n",
    "    else:\n",
    "        return (\n",
    "            (inetrpolate(feature, xscale, yscale), label)\n",
    "            for (feature, label) in datagenerator if feature.ndim == 3\n",
    "        )\n",
    "\n",
    "\n",
    "def inetrpolate(arr, *scale):\n",
    "    return cv2.resize(arr, dsize=scale, interpolation=cv2.INTER_CUBIC)\n",
    "\n",
    "\n",
    "def greyscale(img):\n",
    "    return img[:, :, 0] * 0.299 + img[:, :, 1] * 0.587 + img[:, :, 2] * 0.114\n",
    "\n",
    "\n",
    "\n",
    "beefile = \"Bees\"\n",
    "notbeefile = \"Not_Bees\"\n",
    "\n",
    "data = read_data_from_files(beefile,notbeefile)\n",
    "processed_data = preprocess_data(data, 100, 100, True)\n"
   ]
  },
  {
   "cell_type": "code",
   "execution_count": 86,
   "id": "2d00d3b7",
   "metadata": {},
   "outputs": [],
   "source": [
    "features,labels = zip(*list(processed_data))"
   ]
  },
  {
   "cell_type": "code",
   "execution_count": 87,
   "id": "c9f4cc02",
   "metadata": {},
   "outputs": [],
   "source": [
    "features = np.array(features,dtype=np.float32)\n",
    "labels = np.array ([0 if i == notbeefile else 1 for i in labels])"
   ]
  },
  {
   "cell_type": "code",
   "execution_count": 95,
   "id": "d50e3b9b",
   "metadata": {},
   "outputs": [],
   "source": [
    "train_x,test_x,test_y,train_y = train_test_split(features,labels,train_size = 0.75)"
   ]
  },
  {
   "cell_type": "code",
   "execution_count": 97,
   "id": "fa1485c7",
   "metadata": {},
   "outputs": [],
   "source": [
    "import tensorflow as tf\n",
    "\n",
    "model = tf.keras.Sequential([\n",
    "    tf.keras.layers.Conv2D(32, (3,3), padding='same', activation=tf.nn.relu,\n",
    "                           input_shape=(100, 100, 3)),\n",
    "    tf.keras.layers.MaxPooling2D((2, 2), strides=2),\n",
    "    tf.keras.layers.Conv2D(64, (3,3), padding='same', activation=tf.nn.relu),\n",
    "    tf.keras.layers.MaxPooling2D((2, 2), strides=2),\n",
    "    tf.keras.layers.Flatten(),\n",
    "    tf.keras.layers.Dense(128, activation=tf.nn.relu),\n",
    "    tf.keras.layers.Dense(1, activation=tf.nn.sigmoid)\n",
    "])\n",
    "model.compile (\n",
    "    optimizer = 'adam',\n",
    "    loss = 'binary_crossentropy',\n",
    "    metrics= ['accuracy']\n",
    ")"
   ]
  },
  {
   "cell_type": "code",
   "execution_count": null,
   "id": "23aed02f",
   "metadata": {},
   "outputs": [],
   "source": [
    "model.fit(train_x.reshape(len(train_x),100,100,1),train_y, epochs=5)"
   ]
  },
  {
   "cell_type": "code",
   "execution_count": null,
   "id": "f00cd03d",
   "metadata": {},
   "outputs": [],
   "source": [
    "model.evaluate(test_x,test_y)"
   ]
  }
 ],
 "metadata": {
  "kernelspec": {
   "display_name": "Python 3 (ipykernel)",
   "language": "python",
   "name": "python3"
  },
  "language_info": {
   "codemirror_mode": {
    "name": "ipython",
    "version": 3
   },
   "file_extension": ".py",
   "mimetype": "text/x-python",
   "name": "python",
   "nbconvert_exporter": "python",
   "pygments_lexer": "ipython3",
   "version": "3.10.8"
  }
 },
 "nbformat": 4,
 "nbformat_minor": 5
}
